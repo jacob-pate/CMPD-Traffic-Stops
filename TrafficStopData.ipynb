{
 "cells": [
  {
   "cell_type": "code",
   "execution_count": 1,
   "id": "9212d12e",
   "metadata": {},
   "outputs": [],
   "source": [
    "!pip install numpy pandas matplotlib seaborn --quiet "
   ]
  },
  {
   "cell_type": "code",
   "execution_count": 2,
   "id": "c6707aaf",
   "metadata": {},
   "outputs": [],
   "source": [
    "import numpy as np"
   ]
  },
  {
   "cell_type": "code",
   "execution_count": 3,
   "id": "6b51c264",
   "metadata": {},
   "outputs": [],
   "source": [
    "import pandas as pd"
   ]
  },
  {
   "cell_type": "code",
   "execution_count": 4,
   "id": "aff3f9dd",
   "metadata": {},
   "outputs": [],
   "source": [
    "import seaborn as sns"
   ]
  },
  {
   "cell_type": "code",
   "execution_count": 5,
   "id": "e51d9404",
   "metadata": {},
   "outputs": [],
   "source": [
    "TS_df = pd.read_csv('/Users/jpate/Downloads/Officer_Traffic_Stops.csv')"
   ]
  },
  {
   "cell_type": "code",
   "execution_count": 6,
   "id": "55a6e3ee",
   "metadata": {},
   "outputs": [
    {
     "data": {
      "text/plain": [
       "OBJECTID                       0\n",
       "Month_of_Stop                  0\n",
       "Reason_for_Stop                0\n",
       "Officer_Race                   0\n",
       "Officer_Gender                 0\n",
       "Officer_Years_of_Service       0\n",
       "Driver_Race                    0\n",
       "Driver_Ethnicity               0\n",
       "Driver_Gender                  0\n",
       "Driver_Age                     0\n",
       "Was_a_Search_Conducted         0\n",
       "Result_of_Stop                 0\n",
       "CMPD_Division               3909\n",
       "GlobalID                       0\n",
       "dtype: int64"
      ]
     },
     "execution_count": 6,
     "metadata": {},
     "output_type": "execute_result"
    }
   ],
   "source": [
    "#check for null values\n",
    "TS_df.isnull().sum()"
   ]
  },
  {
   "cell_type": "code",
   "execution_count": 7,
   "id": "c63abc29",
   "metadata": {},
   "outputs": [
    {
     "data": {
      "text/plain": [
       "0         University City Division\n",
       "1              Providence Division\n",
       "2         University City Division\n",
       "3            Steele Creek Division\n",
       "4                 Eastway Division\n",
       "                    ...           \n",
       "136144                         NaN\n",
       "136145                         NaN\n",
       "136146                         NaN\n",
       "136147                         NaN\n",
       "136148                         NaN\n",
       "Name: CMPD_Division, Length: 136149, dtype: object"
      ]
     },
     "execution_count": 7,
     "metadata": {},
     "output_type": "execute_result"
    }
   ],
   "source": [
    "TS_df['CMPD_Division']"
   ]
  },
  {
   "cell_type": "code",
   "execution_count": 9,
   "id": "7bf08763",
   "metadata": {},
   "outputs": [],
   "source": [
    "TS_df['is_division_unknown'] = TS_df['CMPD_Division'].isnull()"
   ]
  },
  {
   "cell_type": "code",
   "execution_count": 10,
   "id": "a83a1baf",
   "metadata": {},
   "outputs": [],
   "source": [
    "TS_df = TS_df.drop(['GlobalID'], axis=1)"
   ]
  },
  {
   "cell_type": "code",
   "execution_count": 11,
   "id": "48ff5c7f",
   "metadata": {},
   "outputs": [],
   "source": [
    "TS_df = TS_df.drop(['OBJECTID'], axis=1)"
   ]
  },
  {
   "cell_type": "code",
   "execution_count": 12,
   "id": "21f65c68",
   "metadata": {},
   "outputs": [],
   "source": [
    "def cramers_v(x,y):\n",
    "    import scipy.stats as ss\n",
    "    confusion_matrix = pd.crosstab(x,y)\n",
    "    chi2 = ss.chi2_contingency(confusion_matrix)[0]\n",
    "    n = confusion_matrix.sum().sum()\n",
    "    phi2 = chi2/n\n",
    "    r,k = confusion_matrix.shape\n",
    "    phi2corr = max(0, phi2-((k-1)*(r-1))/(n-1))\n",
    "    rcorr = r-((r-1)**2)/(n-1)\n",
    "    kcorr = k-((k-1)**2)/(n-1)\n",
    "    return np.sqrt(phi2corr/min((kcorr-1),(rcorr-1)))"
   ]
  },
  {
   "cell_type": "code",
   "execution_count": 13,
   "id": "baa8b777",
   "metadata": {},
   "outputs": [],
   "source": [
    "TS_no_nulls = TS_df.dropna()"
   ]
  },
  {
   "cell_type": "code",
   "execution_count": 16,
   "id": "1389a17b",
   "metadata": {},
   "outputs": [],
   "source": [
    "#List = ['Month_of_Stop','Reason_for_Stop','Officer_Race','Officer_Gender',\n",
    "        #'Officer_Years_of_Service','Driver_Race','Driver_Ethnicity','Driver_Gender',\n",
    "       # 'Driver_Age','Was_a_Search_Conducted','Result_of_Stop','CMPD_Division','is_division_unknown']"
   ]
  },
  {
   "cell_type": "code",
   "execution_count": 17,
   "id": "d4fd09ae",
   "metadata": {},
   "outputs": [],
   "source": [
    "#cramers_v((for i in list),'Was_a_Search_Conducted')"
   ]
  },
  {
   "cell_type": "code",
   "execution_count": 16,
   "id": "798aedb9",
   "metadata": {},
   "outputs": [],
   "source": [
    "TS_Searches = TS_no_nulls[TS_no_nulls['Was_a_Search_Conducted'] == 'Yes']"
   ]
  },
  {
   "cell_type": "code",
   "execution_count": 21,
   "id": "fbbe0aa7",
   "metadata": {},
   "outputs": [
    {
     "data": {
      "text/plain": [
       "dtype('bool')"
      ]
     },
     "execution_count": 21,
     "metadata": {},
     "output_type": "execute_result"
    }
   ],
   "source": [
    "TS_Searches['is_division_unknown'].dtype"
   ]
  },
  {
   "cell_type": "code",
   "execution_count": 22,
   "id": "6bda6495",
   "metadata": {},
   "outputs": [
    {
     "data": {
      "text/plain": [
       "array(['Vehicle Regulatory       ', 'Investigation            ',\n",
       "       'Safe Movement            ', 'Vehicle Equipment        ',\n",
       "       'Speeding                 ', 'Stop Light/Sign          ',\n",
       "       'SeatBelt                 ', 'Driving While Impaired   ',\n",
       "       'Other                    ', 'CheckPoint               '],\n",
       "      dtype=object)"
      ]
     },
     "execution_count": 22,
     "metadata": {},
     "output_type": "execute_result"
    }
   ],
   "source": [
    "TS_Searches['Reason_for_Stop'].unique()"
   ]
  },
  {
   "cell_type": "code",
   "execution_count": 24,
   "id": "c098d9de",
   "metadata": {},
   "outputs": [
    {
     "data": {
      "text/plain": [
       "Month_of_Stop               object\n",
       "Reason_for_Stop             object\n",
       "Officer_Race                object\n",
       "Officer_Gender              object\n",
       "Officer_Years_of_Service     int64\n",
       "Driver_Race                 object\n",
       "Driver_Ethnicity            object\n",
       "Driver_Gender               object\n",
       "Driver_Age                   int64\n",
       "Was_a_Search_Conducted      object\n",
       "Result_of_Stop              object\n",
       "CMPD_Division               object\n",
       "is_division_unknown           bool\n",
       "dtype: object"
      ]
     },
     "execution_count": 24,
     "metadata": {},
     "output_type": "execute_result"
    }
   ],
   "source": [
    "data_df_no_nulls.dtypes"
   ]
  },
  {
   "cell_type": "markdown",
   "id": "6b258cdc",
   "metadata": {},
   "source": [
    "#viz"
   ]
  },
  {
   "cell_type": "code",
   "execution_count": 18,
   "id": "450873c6",
   "metadata": {},
   "outputs": [
    {
     "data": {
      "text/plain": [
       "<AxesSubplot:title={'center':'Searches by Traffic Stop Reason'}>"
      ]
     },
     "execution_count": 18,
     "metadata": {},
     "output_type": "execute_result"
    },
    {
     "data": {
      "image/png": "[encoded data removed]",
      "text/plain": [
       "<Figure size 432x288 with 1 Axes>"
      ]
     },
     "metadata": {
      "needs_background": "light"
     },
     "output_type": "display_data"
    }
   ],
   "source": [
    "TS_Searches['Reason_for_Stop'].value_counts().plot(kind='bar', title='Searches by Traffic Stop Reason')"
   ]
  },
  {
   "cell_type": "code",
   "execution_count": 19,
   "id": "7b9c71f9",
   "metadata": {},
   "outputs": [
    {
     "data": {
      "text/plain": [
       "<AxesSubplot:title={'center':'Searches by Driver Gender'}>"
      ]
     },
     "execution_count": 19,
     "metadata": {},
     "output_type": "execute_result"
    },
    {
     "data": {
      "image/png": "[encoded data removed]",
      "text/plain": [
       "<Figure size 432x288 with 1 Axes>"
      ]
     },
     "metadata": {
      "needs_background": "light"
     },
     "output_type": "display_data"
    }
   ],
   "source": [
    "TS_Searches['Driver_Gender'].value_counts().plot(kind='bar', title='Searches by Driver Gender')"
   ]
  },
  {
   "cell_type": "code",
   "execution_count": 20,
   "id": "dd952c6e",
   "metadata": {},
   "outputs": [
    {
     "data": {
      "text/plain": [
       "82149"
      ]
     },
     "execution_count": 20,
     "metadata": {},
     "output_type": "execute_result"
    }
   ],
   "source": [
    "np.count_nonzero(TS_no_nulls['Driver_Gender'] == 'Male')"
   ]
  },
  {
   "cell_type": "code",
   "execution_count": 22,
   "id": "dfec7f3d",
   "metadata": {},
   "outputs": [
    {
     "data": {
      "text/plain": [
       "6377"
      ]
     },
     "execution_count": 22,
     "metadata": {},
     "output_type": "execute_result"
    }
   ],
   "source": [
    "np.count_nonzero(TS_Searches['Driver_Gender'] == 'Male')"
   ]
  },
  {
   "cell_type": "code",
   "execution_count": 23,
   "id": "6f9eda21",
   "metadata": {},
   "outputs": [
    {
     "data": {
      "text/plain": [
       "<AxesSubplot:title={'center':'Searches by Police Division'}>"
      ]
     },
     "execution_count": 23,
     "metadata": {},
     "output_type": "execute_result"
    },
    {
     "data": {
      "image/png": "[encoded data removed]",
      "text/plain": [
       "<Figure size 432x288 with 1 Axes>"
      ]
     },
     "metadata": {
      "needs_background": "light"
     },
     "output_type": "display_data"
    }
   ],
   "source": [
    "TS_Searches['CMPD_Division'].value_counts().plot(kind='bar', title='Searches by Police Division')"
   ]
  },
  {
   "cell_type": "code",
   "execution_count": 24,
   "id": "0aadee82",
   "metadata": {},
   "outputs": [
    {
     "ename": "TypeError",
     "evalue": "no numeric data to plot",
     "output_type": "error",
     "traceback": [
      "\u001b[0;31m---------------------------------------------------------------------------\u001b[0m",
      "\u001b[0;31mTypeError\u001b[0m                                 Traceback (most recent call last)",
      "\u001b[0;32m/var/folders/tw/zw6t1r65653627d6yhcc6pt80000gn/T/ipykernel_13351/3666927992.py\u001b[0m in \u001b[0;36m<module>\u001b[0;34m\u001b[0m\n\u001b[0;32m----> 1\u001b[0;31m \u001b[0mTS_Searches\u001b[0m\u001b[0;34m[\u001b[0m\u001b[0;34m'is_division_unknown'\u001b[0m\u001b[0;34m]\u001b[0m\u001b[0;34m.\u001b[0m\u001b[0mplot\u001b[0m\u001b[0;34m(\u001b[0m\u001b[0mkind\u001b[0m\u001b[0;34m=\u001b[0m\u001b[0;34m'bar'\u001b[0m\u001b[0;34m,\u001b[0m \u001b[0mtitle\u001b[0m\u001b[0;34m=\u001b[0m\u001b[0;34m'Searches by Unkown Divisions'\u001b[0m\u001b[0;34m)\u001b[0m\u001b[0;34m\u001b[0m\u001b[0;34m\u001b[0m\u001b[0m\n\u001b[0m",
      "\u001b[0;32m~/opt/anaconda3/lib/python3.9/site-packages/pandas/plotting/_core.py\u001b[0m in \u001b[0;36m__call__\u001b[0;34m(self, *args, **kwargs)\u001b[0m\n\u001b[1;32m    970\u001b[0m                     \u001b[0mdata\u001b[0m\u001b[0;34m.\u001b[0m\u001b[0mcolumns\u001b[0m \u001b[0;34m=\u001b[0m \u001b[0mlabel_name\u001b[0m\u001b[0;34m\u001b[0m\u001b[0;34m\u001b[0m\u001b[0m\n\u001b[1;32m    971\u001b[0m \u001b[0;34m\u001b[0m\u001b[0m\n\u001b[0;32m--> 972\u001b[0;31m         \u001b[0;32mreturn\u001b[0m \u001b[0mplot_backend\u001b[0m\u001b[0;34m.\u001b[0m\u001b[0mplot\u001b[0m\u001b[0;34m(\u001b[0m\u001b[0mdata\u001b[0m\u001b[0;34m,\u001b[0m \u001b[0mkind\u001b[0m\u001b[0;34m=\u001b[0m\u001b[0mkind\u001b[0m\u001b[0;34m,\u001b[0m \u001b[0;34m**\u001b[0m\u001b[0mkwargs\u001b[0m\u001b[0;34m)\u001b[0m\u001b[0;34m\u001b[0m\u001b[0;34m\u001b[0m\u001b[0m\n\u001b[0m\u001b[1;32m    973\u001b[0m \u001b[0;34m\u001b[0m\u001b[0m\n\u001b[1;32m    974\u001b[0m     \u001b[0m__call__\u001b[0m\u001b[0;34m.\u001b[0m\u001b[0m__doc__\u001b[0m \u001b[0;34m=\u001b[0m \u001b[0m__doc__\u001b[0m\u001b[0;34m\u001b[0m\u001b[0;34m\u001b[0m\u001b[0m\n",
      "\u001b[0;32m~/opt/anaconda3/lib/python3.9/site-packages/pandas/plotting/_matplotlib/__init__.py\u001b[0m in \u001b[0;36mplot\u001b[0;34m(data, kind, **kwargs)\u001b[0m\n\u001b[1;32m     69\u001b[0m             \u001b[0mkwargs\u001b[0m\u001b[0;34m[\u001b[0m\u001b[0;34m\"ax\"\u001b[0m\u001b[0;34m]\u001b[0m \u001b[0;34m=\u001b[0m \u001b[0mgetattr\u001b[0m\u001b[0;34m(\u001b[0m\u001b[0max\u001b[0m\u001b[0;34m,\u001b[0m \u001b[0;34m\"left_ax\"\u001b[0m\u001b[0;34m,\u001b[0m \u001b[0max\u001b[0m\u001b[0;34m)\u001b[0m\u001b[0;34m\u001b[0m\u001b[0;34m\u001b[0m\u001b[0m\n\u001b[1;32m     70\u001b[0m     \u001b[0mplot_obj\u001b[0m \u001b[0;34m=\u001b[0m \u001b[0mPLOT_CLASSES\u001b[0m\u001b[0;34m[\u001b[0m\u001b[0mkind\u001b[0m\u001b[0;34m]\u001b[0m\u001b[0;34m(\u001b[0m\u001b[0mdata\u001b[0m\u001b[0;34m,\u001b[0m \u001b[0;34m**\u001b[0m\u001b[0mkwargs\u001b[0m\u001b[0;34m)\u001b[0m\u001b[0;34m\u001b[0m\u001b[0;34m\u001b[0m\u001b[0m\n\u001b[0;32m---> 71\u001b[0;31m     \u001b[0mplot_obj\u001b[0m\u001b[0;34m.\u001b[0m\u001b[0mgenerate\u001b[0m\u001b[0;34m(\u001b[0m\u001b[0;34m)\u001b[0m\u001b[0;34m\u001b[0m\u001b[0;34m\u001b[0m\u001b[0m\n\u001b[0m\u001b[1;32m     72\u001b[0m     \u001b[0mplot_obj\u001b[0m\u001b[0;34m.\u001b[0m\u001b[0mdraw\u001b[0m\u001b[0;34m(\u001b[0m\u001b[0;34m)\u001b[0m\u001b[0;34m\u001b[0m\u001b[0;34m\u001b[0m\u001b[0m\n\u001b[1;32m     73\u001b[0m     \u001b[0;32mreturn\u001b[0m \u001b[0mplot_obj\u001b[0m\u001b[0;34m.\u001b[0m\u001b[0mresult\u001b[0m\u001b[0;34m\u001b[0m\u001b[0;34m\u001b[0m\u001b[0m\n",
      "\u001b[0;32m~/opt/anaconda3/lib/python3.9/site-packages/pandas/plotting/_matplotlib/core.py\u001b[0m in \u001b[0;36mgenerate\u001b[0;34m(self)\u001b[0m\n\u001b[1;32m    284\u001b[0m     \u001b[0;32mdef\u001b[0m \u001b[0mgenerate\u001b[0m\u001b[0;34m(\u001b[0m\u001b[0mself\u001b[0m\u001b[0;34m)\u001b[0m\u001b[0;34m:\u001b[0m\u001b[0;34m\u001b[0m\u001b[0;34m\u001b[0m\u001b[0m\n\u001b[1;32m    285\u001b[0m         \u001b[0mself\u001b[0m\u001b[0;34m.\u001b[0m\u001b[0m_args_adjust\u001b[0m\u001b[0;34m(\u001b[0m\u001b[0;34m)\u001b[0m\u001b[0;34m\u001b[0m\u001b[0;34m\u001b[0m\u001b[0m\n\u001b[0;32m--> 286\u001b[0;31m         \u001b[0mself\u001b[0m\u001b[0;34m.\u001b[0m\u001b[0m_compute_plot_data\u001b[0m\u001b[0;34m(\u001b[0m\u001b[0;34m)\u001b[0m\u001b[0;34m\u001b[0m\u001b[0;34m\u001b[0m\u001b[0m\n\u001b[0m\u001b[1;32m    287\u001b[0m         \u001b[0mself\u001b[0m\u001b[0;34m.\u001b[0m\u001b[0m_setup_subplots\u001b[0m\u001b[0;34m(\u001b[0m\u001b[0;34m)\u001b[0m\u001b[0;34m\u001b[0m\u001b[0;34m\u001b[0m\u001b[0m\n\u001b[1;32m    288\u001b[0m         \u001b[0mself\u001b[0m\u001b[0;34m.\u001b[0m\u001b[0m_make_plot\u001b[0m\u001b[0;34m(\u001b[0m\u001b[0;34m)\u001b[0m\u001b[0;34m\u001b[0m\u001b[0;34m\u001b[0m\u001b[0m\n",
      "\u001b[0;32m~/opt/anaconda3/lib/python3.9/site-packages/pandas/plotting/_matplotlib/core.py\u001b[0m in \u001b[0;36m_compute_plot_data\u001b[0;34m(self)\u001b[0m\n\u001b[1;32m    451\u001b[0m         \u001b[0;31m# no non-numeric frames or series allowed\u001b[0m\u001b[0;34m\u001b[0m\u001b[0;34m\u001b[0m\u001b[0m\n\u001b[1;32m    452\u001b[0m         \u001b[0;32mif\u001b[0m \u001b[0mis_empty\u001b[0m\u001b[0;34m:\u001b[0m\u001b[0;34m\u001b[0m\u001b[0;34m\u001b[0m\u001b[0m\n\u001b[0;32m--> 453\u001b[0;31m             \u001b[0;32mraise\u001b[0m \u001b[0mTypeError\u001b[0m\u001b[0;34m(\u001b[0m\u001b[0;34m\"no numeric data to plot\"\u001b[0m\u001b[0;34m)\u001b[0m\u001b[0;34m\u001b[0m\u001b[0;34m\u001b[0m\u001b[0m\n\u001b[0m\u001b[1;32m    454\u001b[0m \u001b[0;34m\u001b[0m\u001b[0m\n\u001b[1;32m    455\u001b[0m         \u001b[0mself\u001b[0m\u001b[0;34m.\u001b[0m\u001b[0mdata\u001b[0m \u001b[0;34m=\u001b[0m \u001b[0mnumeric_data\u001b[0m\u001b[0;34m.\u001b[0m\u001b[0mapply\u001b[0m\u001b[0;34m(\u001b[0m\u001b[0mself\u001b[0m\u001b[0;34m.\u001b[0m\u001b[0m_convert_to_ndarray\u001b[0m\u001b[0;34m)\u001b[0m\u001b[0;34m\u001b[0m\u001b[0;34m\u001b[0m\u001b[0m\n",
      "\u001b[0;31mTypeError\u001b[0m: no numeric data to plot"
     ]
    }
   ],
   "source": [
    "TS_Searches['is_division_unknown'].plot(kind='bar', title='Searches by Unkown Divisions')"
   ]
  },
  {
   "cell_type": "code",
   "execution_count": 25,
   "id": "99fb08d2",
   "metadata": {},
   "outputs": [
    {
     "name": "stderr",
     "output_type": "stream",
     "text": [
      "/var/folders/tw/zw6t1r65653627d6yhcc6pt80000gn/T/ipykernel_13351/710464493.py:3: SettingWithCopyWarning: \n",
      "A value is trying to be set on a copy of a slice from a DataFrame.\n",
      "Try using .loc[row_indexer,col_indexer] = value instead\n",
      "\n",
      "See the caveats in the documentation: https://pandas.pydata.org/pandas-docs/stable/user_guide/indexing.html#returning-a-view-versus-a-copy\n",
      "  TS_Searches['Ages'] = pd.cut(TS_Searches['Driver_Age'], bins=bins, labels=labels, right=True)\n"
     ]
    }
   ],
   "source": [
    "labels = ['25-30','30-35','35-40','40-45','45-50','50-55','55-60','60-65','65-70','70-76']\n",
    "bins =[0,30,35,40,45,50,55,60,65,70,76]\n",
    "TS_Searches['Ages'] = pd.cut(TS_Searches['Driver_Age'], bins=bins, labels=labels, right=True)\n"
   ]
  },
  {
   "cell_type": "code",
   "execution_count": 35,
   "id": "0c523644",
   "metadata": {},
   "outputs": [
    {
     "ename": "SyntaxError",
     "evalue": "invalid syntax (2116012627.py, line 1)",
     "output_type": "error",
     "traceback": [
      "\u001b[0;36m  File \u001b[0;32m\"/var/folders/tw/zw6t1r65653627d6yhcc6pt80000gn/T/ipykernel_9962/2116012627.py\"\u001b[0;36m, line \u001b[0;32m1\u001b[0m\n\u001b[0;31m    total<'Ages'> == df_data_Searches['Ages'].value_counts()['label name']\u001b[0m\n\u001b[0m                  ^\u001b[0m\n\u001b[0;31mSyntaxError\u001b[0m\u001b[0;31m:\u001b[0m invalid syntax\n"
     ]
    }
   ],
   "source": [
    "#total<we> = df_data_Searches[label name].value_counts()['label name']"
   ]
  },
  {
   "cell_type": "code",
   "execution_count": 26,
   "id": "7a60f2ae",
   "metadata": {},
   "outputs": [
    {
     "data": {
      "text/plain": [
       "<AxesSubplot:title={'center':'Searches by Age Group'}>"
      ]
     },
     "execution_count": 26,
     "metadata": {},
     "output_type": "execute_result"
    },
    {
     "data": {
      "image/png": "[encoded data removed]",
      "text/plain": [
       "<Figure size 432x288 with 1 Axes>"
      ]
     },
     "metadata": {
      "needs_background": "light"
     },
     "output_type": "display_data"
    }
   ],
   "source": [
    "TS_Searches['Ages'].value_counts().plot(kind='bar', title='Searches by Age Group')"
   ]
  },
  {
   "cell_type": "code",
   "execution_count": 27,
   "id": "fd07e3ab",
   "metadata": {},
   "outputs": [
    {
     "data": {
      "text/plain": [
       "<AxesSubplot:title={'center':'Searches by Officer Race'}>"
      ]
     },
     "execution_count": 27,
     "metadata": {},
     "output_type": "execute_result"
    },
    {
     "data": {
      "image/png": "[encoded data removed]",
      "text/plain": [
       "<Figure size 432x288 with 1 Axes>"
      ]
     },
     "metadata": {
      "needs_background": "light"
     },
     "output_type": "display_data"
    }
   ],
   "source": [
    "TS_Searches['Officer_Race'].value_counts().plot(kind='bar', title='Searches by Officer Race')"
   ]
  },
  {
   "cell_type": "code",
   "execution_count": 31,
   "id": "e5609333",
   "metadata": {},
   "outputs": [],
   "source": [
    "TS_Month_Sort = TS_Searches.sort_values('Month_of_Stop')"
   ]
  },
  {
   "cell_type": "code",
   "execution_count": 34,
   "id": "e10f1fb9",
   "metadata": {},
   "outputs": [],
   "source": [
    "#FIX"
   ]
  },
  {
   "cell_type": "code",
   "execution_count": 32,
   "id": "31ca7cdf",
   "metadata": {},
   "outputs": [
    {
     "data": {
      "text/plain": [
       "<AxesSubplot:title={'center':'Searches by Month'}>"
      ]
     },
     "execution_count": 32,
     "metadata": {},
     "output_type": "execute_result"
    },
    {
     "data": {
      "image/png": "[encoded data removed]",
      "text/plain": [
       "<Figure size 432x288 with 1 Axes>"
      ]
     },
     "metadata": {
      "needs_background": "light"
     },
     "output_type": "display_data"
    }
   ],
   "source": [
    "TS_Month_Sort['Month_of_Stop'].value_counts().plot(kind='bar', title='Searches by Month')"
   ]
  },
  {
   "cell_type": "code",
   "execution_count": 37,
   "id": "ca14a6c3",
   "metadata": {},
   "outputs": [
    {
     "data": {
      "text/plain": [
       "<AxesSubplot:title={'center':'Result After Search'}>"
      ]
     },
     "execution_count": 37,
     "metadata": {},
     "output_type": "execute_result"
    },
    {
     "data": {
      "image/png": "[encoded data removed]",
      "text/plain": [
       "<Figure size 432x288 with 1 Axes>"
      ]
     },
     "metadata": {
      "needs_background": "light"
     },
     "output_type": "display_data"
    }
   ],
   "source": [
    "TS_Searches['Result_of_Stop'].value_counts().plot(kind='bar', title='Result After Search')"
   ]
  },
  {
   "cell_type": "code",
   "execution_count": 38,
   "id": "093fccd6",
   "metadata": {},
   "outputs": [
    {
     "data": {
      "text/plain": [
       "<AxesSubplot:title={'center':'Searches by Driver Race'}>"
      ]
     },
     "execution_count": 38,
     "metadata": {},
     "output_type": "execute_result"
    },
    {
     "data": {
      "image/png": "[encoded data removed]",
      "text/plain": [
       "<Figure size 432x288 with 1 Axes>"
      ]
     },
     "metadata": {
      "needs_background": "light"
     },
     "output_type": "display_data"
    }
   ],
   "source": [
    "TS_Searches['Driver_Race'].value_counts().plot(kind='bar', title='Searches by Driver Race')"
   ]
  },
  {
   "cell_type": "code",
   "execution_count": 46,
   "id": "c7833020",
   "metadata": {},
   "outputs": [
    {
     "data": {
      "text/plain": [
       "74669"
      ]
     },
     "execution_count": 46,
     "metadata": {},
     "output_type": "execute_result"
    }
   ],
   "source": [
    "np.count_nonzero(data_df_no_nulls['Driver_Race'] == 'Black')"
   ]
  },
  {
   "cell_type": "code",
   "execution_count": 47,
   "id": "3388cfe7",
   "metadata": {},
   "outputs": [
    {
     "data": {
      "text/plain": [
       "5912"
      ]
     },
     "execution_count": 47,
     "metadata": {},
     "output_type": "execute_result"
    }
   ],
   "source": [
    "np.count_nonzero(df_data_Searches['Driver_Race'] == 'Black')"
   ]
  },
  {
   "cell_type": "code",
   "execution_count": 50,
   "id": "a02e94de",
   "metadata": {},
   "outputs": [
    {
     "data": {
      "text/plain": [
       "49644"
      ]
     },
     "execution_count": 50,
     "metadata": {},
     "output_type": "execute_result"
    }
   ],
   "source": [
    "np.count_nonzero(data_df_no_nulls['Driver_Race'] == 'White')"
   ]
  },
  {
   "cell_type": "code",
   "execution_count": 43,
   "id": "d4ccbe22",
   "metadata": {},
   "outputs": [
    {
     "data": {
      "text/plain": [
       "1478"
      ]
     },
     "execution_count": 43,
     "metadata": {},
     "output_type": "execute_result"
    }
   ],
   "source": [
    "np.count_nonzero(df_data_Searches['Driver_Race'] == 'White')"
   ]
  },
  {
   "cell_type": "code",
   "execution_count": 51,
   "id": "d43b8721",
   "metadata": {},
   "outputs": [
    {
     "data": {
      "text/plain": [
       "0"
      ]
     },
     "execution_count": 51,
     "metadata": {},
     "output_type": "execute_result"
    }
   ],
   "source": [
    "np.count_nonzero(data_df_no_nulls['Driver_Race'] == 'Other/Unkown')"
   ]
  },
  {
   "cell_type": "code",
   "execution_count": 44,
   "id": "fc60bcf3",
   "metadata": {},
   "outputs": [
    {
     "data": {
      "text/plain": [
       "92"
      ]
     },
     "execution_count": 44,
     "metadata": {},
     "output_type": "execute_result"
    }
   ],
   "source": [
    "np.count_nonzero(df_data_Searches['Driver_Race'] == 'Other/Unknown')"
   ]
  },
  {
   "cell_type": "code",
   "execution_count": 49,
   "id": "1114e6ea",
   "metadata": {},
   "outputs": [
    {
     "data": {
      "text/plain": [
       "0.0791760971755347"
      ]
     },
     "execution_count": 49,
     "metadata": {},
     "output_type": "execute_result"
    }
   ],
   "source": [
    "5912/74669"
   ]
  },
  {
   "cell_type": "code",
   "execution_count": null,
   "id": "fb77fd54",
   "metadata": {},
   "outputs": [],
   "source": []
  }
 ],
 "metadata": {
  "kernelspec": {
   "display_name": "Python 3 (ipykernel)",
   "language": "python",
   "name": "python3"
  },
  "language_info": {
   "codemirror_mode": {
    "name": "ipython",
    "version": 3
   },
   "file_extension": ".py",
   "mimetype": "text/x-python",
   "name": "python",
   "nbconvert_exporter": "python",
   "pygments_lexer": "ipython3",
   "version": "3.9.7"
  }
 },
 "nbformat": 4,
 "nbformat_minor": 5
}
